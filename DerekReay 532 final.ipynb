{
 "cells": [
  {
   "cell_type": "code",
   "execution_count": 8,
   "metadata": {},
   "outputs": [
    {
     "name": "stdout",
     "output_type": "stream",
     "text": [
      "input a number: 583\n",
      "7196\n"
     ]
    }
   ],
   "source": [
    "#ingenous cubrency Derek Reay Solution\n",
    "#define function only pass in number for ease of use\n",
    "def totalcoin(n): \n",
    "    \n",
    "    #create cube coins from 1 to 21\n",
    "    coins = [i ** 3 for i in range (1, 22)] \n",
    "    #number of coins\n",
    "    op = len(coins)\n",
    "    \n",
    "    #create array of n length including 0.  \n",
    "    array = [0 for k in range(n+1)] \n",
    "    #print(array) operation test\n",
    "  \n",
    "    #basecase only one way to pay for 0\n",
    "    array[0] = 1\n",
    "  \n",
    "    # solve for each coin in order down length of n\n",
    "    for i in range(0,op): \n",
    "        for k in range(coins[i],n+1): \n",
    "            array[k] = array[k] + array[k-coins[i]] \n",
    "    return array[n] \n",
    "  \n",
    "n = int(input(\"input a number: \"))\n",
    "p = totalcoin(n) \n",
    "print (p) \n",
    "  "
   ]
  },
  {
   "cell_type": "code",
   "execution_count": null,
   "metadata": {},
   "outputs": [],
   "source": []
  },
  {
   "cell_type": "code",
   "execution_count": null,
   "metadata": {},
   "outputs": [],
   "source": []
  }
 ],
 "metadata": {
  "kernelspec": {
   "display_name": "Python 3",
   "language": "python",
   "name": "python3"
  },
  "language_info": {
   "codemirror_mode": {
    "name": "ipython",
    "version": 3
   },
   "file_extension": ".py",
   "mimetype": "text/x-python",
   "name": "python",
   "nbconvert_exporter": "python",
   "pygments_lexer": "ipython3",
   "version": "3.7.3"
  }
 },
 "nbformat": 4,
 "nbformat_minor": 2
}
